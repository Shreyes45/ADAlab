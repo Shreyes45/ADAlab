{
  "nbformat": 4,
  "nbformat_minor": 0,
  "metadata": {
    "colab": {
      "provenance": [],
      "authorship_tag": "ABX9TyO4cTWZNjKKrRQY2tONJegg",
      "include_colab_link": true
    },
    "kernelspec": {
      "name": "python3",
      "display_name": "Python 3"
    },
    "language_info": {
      "name": "python"
    }
  },
  "cells": [
    {
      "cell_type": "markdown",
      "metadata": {
        "id": "view-in-github",
        "colab_type": "text"
      },
      "source": [
        "<a href=\"https://colab.research.google.com/github/Shreyes45/ADAlab/blob/main/propositionallogic.ipynb\" target=\"_parent\"><img src=\"https://colab.research.google.com/assets/colab-badge.svg\" alt=\"Open In Colab\"/></a>"
      ]
    },
    {
      "cell_type": "code",
      "execution_count": 2,
      "metadata": {
        "colab": {
          "base_uri": "https://localhost:8080/"
        },
        "id": "tv8CPeXjCWdX",
        "outputId": "1b885034-db65-4e83-9315-d981bd44a4a4"
      },
      "outputs": [
        {
          "output_type": "stream",
          "name": "stdout",
          "text": [
            "shreyas ts 1bm23cs322\n",
            "Truth Table:\n",
            "A\tB\tC\tKB\tα\n",
            "False\tFalse\tFalse\tFalse\tFalse\n",
            "False\tFalse\tTrue\tFalse\tFalse\n",
            "False\tTrue\tFalse\tFalse\tTrue\n",
            "False\tTrue\tTrue\tFalse\tTrue\n",
            "True\tFalse\tFalse\tFalse\tTrue\n",
            "True\tFalse\tTrue\tFalse\tTrue\n",
            "True\tTrue\tFalse\tTrue\tTrue\n",
            "True\tTrue\tTrue\tFalse\tTrue\n",
            "KB entails α\n"
          ]
        }
      ],
      "source": [
        "print(\"shreyas ts 1bm23cs322\")\n",
        "import itertools\n",
        "\n",
        "def evaluate_expression(expression, assignment):\n",
        "    expression = expression.replace('A', str(assignment[0]))\n",
        "    expression = expression.replace('B', str(assignment[1]))\n",
        "    expression = expression.replace('C', str(assignment[2]))\n",
        "    expression = expression.replace('and', 'and').replace('or', 'or').replace('not', 'not')\n",
        "    return eval(expression)\n",
        "\n",
        "def check_entailment(alpha, kb):\n",
        "    variables = ['A', 'B', 'C']\n",
        "    all_assignments = list(itertools.product([False, True], repeat=len(variables)))\n",
        "\n",
        "    print(\"Truth Table:\")\n",
        "    print(\"A\\tB\\tC\\tKB\\tα\")\n",
        "    for assignment in all_assignments:\n",
        "        kb_result = evaluate_expression(kb, assignment)\n",
        "        alpha_result = evaluate_expression(alpha, assignment)\n",
        "\n",
        "        print(f\"{assignment[0]}\\t{assignment[1]}\\t{assignment[2]}\\t{kb_result}\\t{alpha_result}\")\n",
        "\n",
        "        if kb_result and not alpha_result:\n",
        "            return False\n",
        "\n",
        "    return True\n",
        "\n",
        "alpha = \"A or B\"\n",
        "kb = \"(A or C) and (B and not C)\"\n",
        "\n",
        "if check_entailment(alpha, kb):\n",
        "    print(\"KB entails α\")\n",
        "else:\n",
        "    print(\"KB does not entail α\")\n"
      ]
    }
  ]
}